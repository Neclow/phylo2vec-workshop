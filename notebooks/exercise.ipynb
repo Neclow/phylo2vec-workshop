{
 "cells": [
  {
   "cell_type": "markdown",
   "id": "8d3a7f58",
   "metadata": {},
   "source": [
    "# Exercises"
   ]
  },
  {
   "cell_type": "markdown",
   "id": "ad73f3ce",
   "metadata": {},
   "source": [
    "The aim of these exercises is for you to derive simple functions based on phylo2vec definitions and functions we saw in the tutorial. You will also learn how to test the validity and benchmark the efficiency of your implementations using `pytest` and `pytest-benchmark`, respectively."
   ]
  },
  {
   "cell_type": "markdown",
   "id": "3b7301b4",
   "metadata": {},
   "source": [
    "## Imports"
   ]
  },
  {
   "cell_type": "code",
   "execution_count": 1,
   "id": "c099b676",
   "metadata": {},
   "outputs": [],
   "source": [
    "import os\n",
    "\n",
    "import numpy as np\n",
    "import phylo2vec as p2v\n",
    "\n",
    "os.chdir(\"../\")\n",
    "\n",
    "bench_dir = \"src/benchmarks\"\n",
    "test_dir = \"src/tests\""
   ]
  },
  {
   "cell_type": "markdown",
   "id": "4840a054",
   "metadata": {},
   "source": [
    "## Testing with `pytest`\n",
    "\n",
    "The `pytest` framework makes it easy to write small, readable tests for Python applications and libraries.\n",
    "\n",
    "We have already added the package to our repository via `pixi add pytest`.\n",
    "\n",
    "To write a test, create a python file starting with `test_`. Define test functions starting with `test_`.\n",
    "\n",
    "See the example below of `tests/test_example.py`:"
   ]
  },
  {
   "cell_type": "code",
   "execution_count": 79,
   "id": "53dde8bf",
   "metadata": {},
   "outputs": [
    {
     "data": {
      "text/markdown": [
       "\n",
       "```python\n",
       "import numpy as np\n",
       "import phylo2vec as p2v\n",
       "import pytest\n",
       "\n",
       "from src.example import fibonacci\n",
       "\n",
       "\n",
       "# Test function for `fibonacci`\n",
       "def test_fibonacci():\n",
       "    assert fibonacci(10) == 55\n",
       "    assert fibonacci(20) == 6765\n",
       "    assert fibonacci(30) == 832040\n",
       "\n",
       "\n",
       "# Test function for `fibonacci`\n",
       "def test_fail_fibonacci():\n",
       "    assert fibonacci(10) == 54  # This test is expected to fail\n",
       "\n",
       "\n",
       "@pytest.mark.parametrize(\"n_leaves\", range(5, 50))\n",
       "def test_from_and_to_newick(n_leaves):\n",
       "    v = p2v.sample_vector(n_leaves)\n",
       "    newick = p2v.to_newick(v)\n",
       "    v2 = p2v.from_newick(newick)\n",
       "    assert np.array_equal(v, v2)\n",
       "\n",
       "```\n"
      ],
      "text/plain": [
       "<IPython.core.display.Markdown object>"
      ]
     },
     "execution_count": 79,
     "metadata": {},
     "output_type": "execute_result"
    }
   ],
   "source": [
    "from IPython.display import Markdown\n",
    "\n",
    "# Read the file and display in markdown\n",
    "with open(f'{test_dir}/test_example.py', 'r') as f:\n",
    "    benchmark_content = f.read()\n",
    "\n",
    "Markdown(\n",
    "f\"\"\"\n",
    "```python\n",
    "{benchmark_content}\n",
    "```\n",
    "\"\"\"\n",
    ")"
   ]
  },
  {
   "cell_type": "markdown",
   "id": "94773fb4",
   "metadata": {},
   "source": [
    "To run tests, simply run: "
   ]
  },
  {
   "cell_type": "code",
   "execution_count": 60,
   "id": "b52c983f",
   "metadata": {},
   "outputs": [
    {
     "name": "stdout",
     "output_type": "stream",
     "text": [
      "\u001b[2K\u001b[32m⠁\u001b[0m activating environment                                                        \u001b[1m============================= test session starts ==============================\u001b[0m\n",
      "platform linux -- Python 3.11.13, pytest-8.4.2, pluggy-1.6.0 -- /home/nclow23/src/phylo2vec/workshop/.pixi/envs/default/bin/python3.11\n",
      "cachedir: .pytest_cache\n",
      "benchmark: 5.1.0 (defaults: timer=time.perf_counter disable_gc=False min_rounds=5 min_time=0.000005 max_time=1.0 calibration_precision=10 warmup=False warmup_iterations=100000)\n",
      "rootdir: /home/nclow23/src/phylo2vec/workshop\n",
      "plugins: anyio-4.10.0, benchmark-5.1.0\n",
      "collected 47 items                                                             \u001b[0m\n",
      "\n",
      "../src/tests/test_example.py::test_fibonacci \u001b[32mPASSED\u001b[0m\u001b[33m                      [  2%]\u001b[0m\n",
      "../src/tests/test_example.py::test_fail_fibonacci \u001b[31mFAILED\u001b[0m\u001b[31m                 [  4%]\u001b[0m\n",
      "../src/tests/test_example.py::test_from_and_to_newick[5] \u001b[32mPASSED\u001b[0m\u001b[31m          [  6%]\u001b[0m\n",
      "../src/tests/test_example.py::test_from_and_to_newick[6] \u001b[32mPASSED\u001b[0m\u001b[31m          [  8%]\u001b[0m\n",
      "../src/tests/test_example.py::test_from_and_to_newick[7] \u001b[32mPASSED\u001b[0m\u001b[31m          [ 10%]\u001b[0m\n",
      "../src/tests/test_example.py::test_from_and_to_newick[8] \u001b[32mPASSED\u001b[0m\u001b[31m          [ 12%]\u001b[0m\n",
      "../src/tests/test_example.py::test_from_and_to_newick[9] \u001b[32mPASSED\u001b[0m\u001b[31m          [ 14%]\u001b[0m\n",
      "../src/tests/test_example.py::test_from_and_to_newick[10] \u001b[32mPASSED\u001b[0m\u001b[31m         [ 17%]\u001b[0m\n",
      "../src/tests/test_example.py::test_from_and_to_newick[11] \u001b[32mPASSED\u001b[0m\u001b[31m         [ 19%]\u001b[0m\n",
      "../src/tests/test_example.py::test_from_and_to_newick[12] \u001b[32mPASSED\u001b[0m\u001b[31m         [ 21%]\u001b[0m\n",
      "../src/tests/test_example.py::test_from_and_to_newick[13] \u001b[32mPASSED\u001b[0m\u001b[31m         [ 23%]\u001b[0m\n",
      "../src/tests/test_example.py::test_from_and_to_newick[14] \u001b[32mPASSED\u001b[0m\u001b[31m         [ 25%]\u001b[0m\n",
      "../src/tests/test_example.py::test_from_and_to_newick[15] \u001b[32mPASSED\u001b[0m\u001b[31m         [ 27%]\u001b[0m\n",
      "../src/tests/test_example.py::test_from_and_to_newick[16] \u001b[32mPASSED\u001b[0m\u001b[31m         [ 29%]\u001b[0m\n",
      "../src/tests/test_example.py::test_from_and_to_newick[17] \u001b[32mPASSED\u001b[0m\u001b[31m         [ 31%]\u001b[0m\n",
      "../src/tests/test_example.py::test_from_and_to_newick[18] \u001b[32mPASSED\u001b[0m\u001b[31m         [ 34%]\u001b[0m\n",
      "../src/tests/test_example.py::test_from_and_to_newick[19] \u001b[32mPASSED\u001b[0m\u001b[31m         [ 36%]\u001b[0m\n",
      "../src/tests/test_example.py::test_from_and_to_newick[20] \u001b[32mPASSED\u001b[0m\u001b[31m         [ 38%]\u001b[0m\n",
      "../src/tests/test_example.py::test_from_and_to_newick[21] \u001b[32mPASSED\u001b[0m\u001b[31m         [ 40%]\u001b[0m\n",
      "../src/tests/test_example.py::test_from_and_to_newick[22] \u001b[32mPASSED\u001b[0m\u001b[31m         [ 42%]\u001b[0m\n",
      "../src/tests/test_example.py::test_from_and_to_newick[23] \u001b[32mPASSED\u001b[0m\u001b[31m         [ 44%]\u001b[0m\n",
      "../src/tests/test_example.py::test_from_and_to_newick[24] \u001b[32mPASSED\u001b[0m\u001b[31m         [ 46%]\u001b[0m\n",
      "../src/tests/test_example.py::test_from_and_to_newick[25] \u001b[32mPASSED\u001b[0m\u001b[31m         [ 48%]\u001b[0m\n",
      "../src/tests/test_example.py::test_from_and_to_newick[26] \u001b[32mPASSED\u001b[0m\u001b[31m         [ 51%]\u001b[0m\n",
      "../src/tests/test_example.py::test_from_and_to_newick[27] \u001b[32mPASSED\u001b[0m\u001b[31m         [ 53%]\u001b[0m\n",
      "../src/tests/test_example.py::test_from_and_to_newick[28] \u001b[32mPASSED\u001b[0m\u001b[31m         [ 55%]\u001b[0m\n",
      "../src/tests/test_example.py::test_from_and_to_newick[29] \u001b[32mPASSED\u001b[0m\u001b[31m         [ 57%]\u001b[0m\n",
      "../src/tests/test_example.py::test_from_and_to_newick[30] \u001b[32mPASSED\u001b[0m\u001b[31m         [ 59%]\u001b[0m\n",
      "../src/tests/test_example.py::test_from_and_to_newick[31] \u001b[32mPASSED\u001b[0m\u001b[31m         [ 61%]\u001b[0m\n",
      "../src/tests/test_example.py::test_from_and_to_newick[32] \u001b[32mPASSED\u001b[0m\u001b[31m         [ 63%]\u001b[0m\n",
      "../src/tests/test_example.py::test_from_and_to_newick[33] \u001b[32mPASSED\u001b[0m\u001b[31m         [ 65%]\u001b[0m\n",
      "../src/tests/test_example.py::test_from_and_to_newick[34] \u001b[32mPASSED\u001b[0m\u001b[31m         [ 68%]\u001b[0m\n",
      "../src/tests/test_example.py::test_from_and_to_newick[35] \u001b[32mPASSED\u001b[0m\u001b[31m         [ 70%]\u001b[0m\n",
      "../src/tests/test_example.py::test_from_and_to_newick[36] \u001b[32mPASSED\u001b[0m\u001b[31m         [ 72%]\u001b[0m\n",
      "../src/tests/test_example.py::test_from_and_to_newick[37] \u001b[32mPASSED\u001b[0m\u001b[31m         [ 74%]\u001b[0m\n",
      "../src/tests/test_example.py::test_from_and_to_newick[38] \u001b[32mPASSED\u001b[0m\u001b[31m         [ 76%]\u001b[0m\n",
      "../src/tests/test_example.py::test_from_and_to_newick[39] \u001b[32mPASSED\u001b[0m\u001b[31m         [ 78%]\u001b[0m\n",
      "../src/tests/test_example.py::test_from_and_to_newick[40] \u001b[32mPASSED\u001b[0m\u001b[31m         [ 80%]\u001b[0m\n",
      "../src/tests/test_example.py::test_from_and_to_newick[41] \u001b[32mPASSED\u001b[0m\u001b[31m         [ 82%]\u001b[0m\n",
      "../src/tests/test_example.py::test_from_and_to_newick[42] \u001b[32mPASSED\u001b[0m\u001b[31m         [ 85%]\u001b[0m\n",
      "../src/tests/test_example.py::test_from_and_to_newick[43] \u001b[32mPASSED\u001b[0m\u001b[31m         [ 87%]\u001b[0m\n",
      "../src/tests/test_example.py::test_from_and_to_newick[44] \u001b[32mPASSED\u001b[0m\u001b[31m         [ 89%]\u001b[0m\n",
      "../src/tests/test_example.py::test_from_and_to_newick[45] \u001b[32mPASSED\u001b[0m\u001b[31m         [ 91%]\u001b[0m\n",
      "../src/tests/test_example.py::test_from_and_to_newick[46] \u001b[32mPASSED\u001b[0m\u001b[31m         [ 93%]\u001b[0m\n",
      "../src/tests/test_example.py::test_from_and_to_newick[47] \u001b[32mPASSED\u001b[0m\u001b[31m         [ 95%]\u001b[0m\n",
      "../src/tests/test_example.py::test_from_and_to_newick[48] \u001b[32mPASSED\u001b[0m\u001b[31m         [ 97%]\u001b[0m\n",
      "../src/tests/test_example.py::test_from_and_to_newick[49] \u001b[32mPASSED\u001b[0m\u001b[31m         [100%]\u001b[0m\n",
      "\n",
      "=================================== FAILURES ===================================\n",
      "\u001b[31m\u001b[1m_____________________________ test_fail_fibonacci ______________________________\u001b[0m\n",
      "\n",
      "    \u001b[0m\u001b[94mdef\u001b[39;49;00m\u001b[90m \u001b[39;49;00m\u001b[92mtest_fail_fibonacci\u001b[39;49;00m():\u001b[90m\u001b[39;49;00m\n",
      ">       \u001b[94massert\u001b[39;49;00m fibonacci(\u001b[94m10\u001b[39;49;00m) == \u001b[94m54\u001b[39;49;00m  \u001b[90m# This test is expected to fail\u001b[39;49;00m\u001b[90m\u001b[39;49;00m\n",
      "        ^^^^^^^^^^^^^^^^^^^^^^^^^^\u001b[90m\u001b[39;49;00m\n",
      "\u001b[1m\u001b[31mE       assert 55 == 54\u001b[0m\n",
      "\u001b[1m\u001b[31mE        +  where 55 = fibonacci(10)\u001b[0m\n",
      "\n",
      "\u001b[1m\u001b[31m../src/tests/test_example.py\u001b[0m:17: AssertionError\n",
      "\u001b[33m=============================== warnings summary ===============================\u001b[0m\n",
      "../.pixi/envs/default/lib/python3.11/site-packages/ete3/webplugin/webapp.py:44\n",
      "  /home/nclow23/src/phylo2vec/workshop/.pixi/envs/default/lib/python3.11/site-packages/ete3/webplugin/webapp.py:44: DeprecationWarning: 'cgi' is deprecated and slated for removal in Python 3.13\n",
      "    import cgi\n",
      "\n",
      "-- Docs: https://docs.pytest.org/en/stable/how-to/capture-warnings.html\n",
      "\u001b[36m\u001b[1m=========================== short test summary info ============================\u001b[0m\n",
      "\u001b[31mFAILED\u001b[0m ../src/tests/test_example.py::\u001b[1mtest_fail_fibonacci\u001b[0m - assert 55 == 54\n",
      "\u001b[31m=================== \u001b[31m\u001b[1m1 failed\u001b[0m, \u001b[32m46 passed\u001b[0m, \u001b[33m1 warning\u001b[0m\u001b[31m in 0.26s\u001b[0m\u001b[31m ====================\u001b[0m\n"
     ]
    }
   ],
   "source": [
    "!pixi run pytest $test_dir -v"
   ]
  },
  {
   "cell_type": "markdown",
   "id": "4c8d2068",
   "metadata": {},
   "source": [
    "`pytest` automatically discovers files and functions starting with `test_`. \n",
    "It will show a summary of passed and failed tests.\n",
    "\n",
    "The `-v` option is optional, but helps visualizing which tests passed/failed."
   ]
  },
  {
   "cell_type": "markdown",
   "id": "b11ea40a",
   "metadata": {},
   "source": [
    "## Benchmarking with pytest-benchmark"
   ]
  },
  {
   "cell_type": "markdown",
   "id": "9e6438fc",
   "metadata": {},
   "source": [
    "The `pytest-benchmark` is a package that integrates with `pytest` to measure and report performance of your code. It uses a similar syntax as `pytest` tests.\n",
    "\n",
    "We have already added the package to our repository via `pixi add pytest-benchmark`.\n",
    "\n",
    "To write a test, create a python file starting with `test_`. Define test functions starting with `test_`.\n",
    "\n",
    "See the example below of `src/benchmarks/test_bench.py`:"
   ]
  },
  {
   "cell_type": "code",
   "execution_count": 74,
   "id": "f80c2f6a",
   "metadata": {},
   "outputs": [
    {
     "data": {
      "text/markdown": [
       "\n",
       "```python\n",
       "\"\"\"Example benchmarks.\"\"\"\n",
       "\n",
       "import pytest\n",
       "\n",
       "import phylo2vec as p2v\n",
       "\n",
       "from src.example import fibonacci\n",
       "\n",
       "# 100, 200, ..., 900\n",
       "BENCHMARK_RANGE = range(100, 1000, 100)\n",
       "\n",
       "\n",
       "# Test the fibonacci function\n",
       "@pytest.mark.parametrize(\"sample_size\", BENCHMARK_RANGE)\n",
       "def test_fibonacci(benchmark, sample_size):\n",
       "    benchmark(fibonacci, sample_size)\n",
       "\n",
       "\n",
       "# Test the sample_vector function from phylo2vec\n",
       "@pytest.mark.parametrize(\"sample_size\", BENCHMARK_RANGE)\n",
       "def test_sample(benchmark, sample_size):\n",
       "    benchmark(p2v.sample_vector, sample_size)\n",
       "\n",
       "```\n"
      ],
      "text/plain": [
       "<IPython.core.display.Markdown object>"
      ]
     },
     "execution_count": 74,
     "metadata": {},
     "output_type": "execute_result"
    }
   ],
   "source": [
    "# Read the file and display in markdown\n",
    "with open(f\"{bench_dir}/test_bench.py\", \"r\") as f:\n",
    "    benchmark_content = f.read()\n",
    "\n",
    "Markdown(\n",
    "    f\"\"\"\n",
    "```python\n",
    "{benchmark_content}\n",
    "```\n",
    "\"\"\"\n",
    ")"
   ]
  },
  {
   "cell_type": "markdown",
   "id": "ddd0a5f9",
   "metadata": {},
   "source": [
    "To run a benchmark, you can simply run:"
   ]
  },
  {
   "cell_type": "code",
   "execution_count": 23,
   "id": "ef580d01",
   "metadata": {},
   "outputs": [
    {
     "name": "stdout",
     "output_type": "stream",
     "text": [
      "\u001b[2K\u001b[32m⠁\u001b[0m activating environment                                                        \u001b[1m============================= test session starts ==============================\u001b[0m\n",
      "platform linux -- Python 3.11.13, pytest-8.4.2, pluggy-1.6.0\n",
      "benchmark: 5.1.0 (defaults: timer=time.perf_counter disable_gc=False min_rounds=5 min_time=0.000005 max_time=1.0 calibration_precision=10 warmup=False warmup_iterations=100000)\n",
      "rootdir: /home/nclow23/src/phylo2vec/workshop\n",
      "plugins: anyio-4.10.0, benchmark-5.1.0\n",
      "collected 18 items                                                             \u001b[0m\n",
      "\n",
      "src/benchmarks/test_bench.py \u001b[32m.\u001b[0m\u001b[32m.\u001b[0m\u001b[32m.\u001b[0m\u001b[32m.\u001b[0m\u001b[32m.\u001b[0m\u001b[32m.\u001b[0m\u001b[32m.\u001b[0m\u001b[32m.\u001b[0m\u001b[32m.\u001b[0m\u001b[32m.\u001b[0m\u001b[32m.\u001b[0m\u001b[32m.\u001b[0m\u001b[32m.\u001b[0m\u001b[32m.\u001b[0m\u001b[32m.\u001b[0m\u001b[32m.\u001b[0m\u001b[32m.\u001b[0m\u001b[32m.\u001b[0m\u001b[33m                          [100%]\u001b[0m\n",
      "\n",
      "\u001b[33m=============================== warnings summary ===============================\u001b[0m\n",
      ".pixi/envs/default/lib/python3.11/site-packages/ete3/webplugin/webapp.py:44\n",
      "  /home/nclow23/src/phylo2vec/workshop/.pixi/envs/default/lib/python3.11/site-packages/ete3/webplugin/webapp.py:44: DeprecationWarning: 'cgi' is deprecated and slated for removal in Python 3.13\n",
      "    import cgi\n",
      "\n",
      "-- Docs: https://docs.pytest.org/en/stable/how-to/capture-warnings.html\n",
      "\n",
      "\u001b[33m------------------------------------------------------------------------------------------------- benchmark: 18 tests --------------------------------------------------------------------------------------------------\u001b[0m\n",
      "Name (time in ns)                       Min                    Max                   Mean              StdDev                 Median                 IQR            Outliers  OPS (Kops/s)            Rounds  Iterations\n",
      "\u001b[33m------------------------------------------------------------------------------------------------------------------------------------------------------------------------------------------------------------------------\u001b[0m\n",
      "test_fibonacci[300]           \u001b[32m\u001b[1m     318.1398 (1.0)    \u001b[0m\u001b[1m   2,200.2030 (1.17)   \u001b[0m\u001b[32m\u001b[1m     339.9403 (1.0)    \u001b[0m\u001b[1m   25.5082 (1.24)   \u001b[0m\u001b[32m\u001b[1m     333.6463 (1.0)    \u001b[0m\u001b[1m    9.9652 (2.46)   \u001b[0m5871;22573\u001b[32m\u001b[1m    2,941.6930 (1.0)    \u001b[0m  136176          20\n",
      "test_fibonacci[400]           \u001b[1m     337.1388 (1.06)   \u001b[0m\u001b[1m   2,310.3785 (1.23)   \u001b[0m\u001b[1m     351.7222 (1.03)   \u001b[0m\u001b[1m   21.4391 (1.05)   \u001b[0m\u001b[1m     348.6406 (1.04)   \u001b[0m\u001b[32m\u001b[1m    4.0513 (1.0)    \u001b[0m 6792;9127\u001b[1m    2,843.1529 (0.97)   \u001b[0m  133967          20\n",
      "test_fibonacci[500]           \u001b[1m     348.1284 (1.09)   \u001b[0m\u001b[1m   2,285.3259 (1.22)   \u001b[0m\u001b[1m     359.6840 (1.06)   \u001b[0m\u001b[32m\u001b[1m   20.5111 (1.0)    \u001b[0m\u001b[1m     356.2309 (1.07)   \u001b[0m\u001b[1m    4.4703 (1.10)   \u001b[0m 6650;8550\u001b[1m    2,780.2183 (0.95)   \u001b[0m  132023          20\n",
      "test_fibonacci[600]           \u001b[1m     356.1378 (1.12)   \u001b[0m\u001b[32m\u001b[1m   1,880.5731 (1.0)    \u001b[0m\u001b[1m     373.8516 (1.10)   \u001b[0m\u001b[1m   23.0102 (1.12)   \u001b[0m\u001b[1m     369.2228 (1.11)   \u001b[0m\u001b[1m    7.4971 (1.85)   \u001b[0m8687;13173\u001b[1m    2,674.8582 (0.91)   \u001b[0m  129805          20\n",
      "test_fibonacci[100]           \u001b[1m     359.4905 (1.13)   \u001b[0m\u001b[1m  18,153.3396 (9.65)   \u001b[0m\u001b[1m     403.8494 (1.19)   \u001b[0m\u001b[1m  251.6549 (12.27)  \u001b[0m\u001b[1m     380.9109 (1.14)   \u001b[0m\u001b[1m   20.4891 (5.06)   \u001b[0m  730;2464\u001b[1m    2,476.1704 (0.84)   \u001b[0m   88019           1\n",
      "test_fibonacci[700]           \u001b[1m     369.6885 (1.16)   \u001b[0m\u001b[1m   1,912.1449 (1.02)   \u001b[0m\u001b[1m     386.2676 (1.14)   \u001b[0m\u001b[1m   21.1726 (1.03)   \u001b[0m\u001b[1m     383.2392 (1.15)   \u001b[0m\u001b[1m    4.4703 (1.10)   \u001b[0m 5448;7311\u001b[1m    2,588.8790 (0.88)   \u001b[0m  125072          20\n",
      "test_fibonacci[200]           \u001b[1m     369.7351 (1.16)   \u001b[0m\u001b[1m  19,066.0357 (10.14)  \u001b[0m\u001b[1m     417.2558 (1.23)   \u001b[0m\u001b[1m  246.7160 (12.03)  \u001b[0m\u001b[1m     391.1555 (1.17)   \u001b[0m\u001b[1m   19.5578 (4.83)   \u001b[0m 1149;4433\u001b[1m    2,396.6115 (0.81)   \u001b[0m  139212           1\n",
      "test_fibonacci[800]           \u001b[1m     383.7049 (1.21)   \u001b[0m\u001b[1m   3,075.8325 (1.64)   \u001b[0m\u001b[1m     396.0632 (1.17)   \u001b[0m\u001b[1m   21.7287 (1.06)   \u001b[0m\u001b[1m     393.2510 (1.18)   \u001b[0m\u001b[1m    4.4703 (1.10)   \u001b[0m 4988;6590\u001b[1m    2,524.8497 (0.86)   \u001b[0m  119811          20\n",
      "test_fibonacci[900]           \u001b[1m     389.7119 (1.22)   \u001b[0m\u001b[1m   1,919.1764 (1.02)   \u001b[0m\u001b[1m     411.4750 (1.21)   \u001b[0m\u001b[1m   20.9107 (1.02)   \u001b[0m\u001b[1m     408.2453 (1.22)   \u001b[0m\u001b[1m    8.5216 (2.10)   \u001b[0m4253;11636\u001b[1m    2,430.2813 (0.83)   \u001b[0m  115905          20\n",
      "test_p2v_sample_vector[100]   \u001b[1m   4,689.2092 (14.74)  \u001b[0m\u001b[1m  12,843.8696 (6.83)   \u001b[0m\u001b[1m   5,030.0841 (14.80)  \u001b[0m\u001b[1m  248.9014 (12.13)  \u001b[0m\u001b[1m   5,009.5841 (15.01)  \u001b[0m\u001b[1m  138.7671 (34.25)  \u001b[0m   230;208\u001b[1m      198.8038 (0.07)   \u001b[0m    8541           1\n",
      "test_p2v_sample_vector[200]   \u001b[1m   9,207.0550 (28.94)  \u001b[0m\u001b[1m  49,504.4515 (26.32)  \u001b[0m\u001b[1m   9,757.0511 (28.70)  \u001b[0m\u001b[1m  444.3251 (21.66)  \u001b[0m\u001b[1m   9,707.1752 (29.09)  \u001b[0m\u001b[1m  200.2344 (49.43)  \u001b[0m 2058;2443\u001b[1m      102.4900 (0.03)   \u001b[0m   47733           1\n",
      "test_p2v_sample_vector[300]   \u001b[1m  14,116.9876 (44.37)  \u001b[0m\u001b[1m  28,214.4174 (15.00)  \u001b[0m\u001b[1m  14,898.4951 (43.83)  \u001b[0m\u001b[1m  479.6337 (23.38)  \u001b[0m\u001b[1m  14,837.8313 (44.47)  \u001b[0m\u001b[1m  269.1522 (66.44)  \u001b[0m 2475;2076\u001b[1m       67.1209 (0.02)   \u001b[0m   39908           1\n",
      "test_p2v_sample_vector[400]   \u001b[1m  19,236.4678 (60.47)  \u001b[0m\u001b[1m  59,572.9798 (31.68)  \u001b[0m\u001b[1m  20,120.5425 (59.19)  \u001b[0m\u001b[1m  676.4435 (32.98)  \u001b[0m\u001b[1m  20,038.3365 (60.06)  \u001b[0m\u001b[1m  320.3750 (79.08)  \u001b[0m   454;614\u001b[1m       49.7004 (0.02)   \u001b[0m   13459           1\n",
      "test_p2v_sample_vector[500]   \u001b[1m  23,784.1159 (74.76)  \u001b[0m\u001b[1m  47,881.1562 (25.46)  \u001b[0m\u001b[1m  24,819.3329 (73.01)  \u001b[0m\u001b[1m  603.2970 (29.41)  \u001b[0m\u001b[1m  24,736.8589 (74.14)  \u001b[0m\u001b[1m  350.1773 (86.44)  \u001b[0m 1426;1106\u001b[1m       40.2912 (0.01)   \u001b[0m   23977           1\n",
      "test_p2v_sample_vector[600]   \u001b[1m  28,984.6212 (91.11)  \u001b[0m\u001b[1m  60,776.2486 (32.32)  \u001b[0m\u001b[1m  30,076.6617 (88.48)  \u001b[0m\u001b[1m  646.8631 (31.54)  \u001b[0m\u001b[1m  29,986.7243 (89.88)  \u001b[0m\u001b[1m  411.6446 (101.61) \u001b[0m  1556;841\u001b[1m       33.2484 (0.01)   \u001b[0m   22851           1\n",
      "test_p2v_sample_vector[700]   \u001b[1m  34,134.8350 (107.30) \u001b[0m\u001b[1m  64,823.7765 (34.47)  \u001b[0m\u001b[1m  35,341.4083 (103.96) \u001b[0m\u001b[1m  736.7976 (35.92)  \u001b[0m\u001b[1m  35,236.5896 (105.61) \u001b[0m\u001b[1m  460.0734 (113.56) \u001b[0m  1137;677\u001b[1m       28.2954 (0.01)   \u001b[0m   19910           1\n",
      "test_p2v_sample_vector[800]   \u001b[1m  38,702.9722 (121.65) \u001b[0m\u001b[31m\u001b[1m  85,973.1808 (45.72)  \u001b[0m\u001b[1m  39,961.1011 (117.55) \u001b[0m\u001b[1m  795.9874 (38.81)  \u001b[0m\u001b[1m  39,846.6364 (119.43) \u001b[0m\u001b[1m  501.0515 (123.68) \u001b[0m  1063;607\u001b[1m       25.0243 (0.01)   \u001b[0m   18155           1\n",
      "test_p2v_sample_vector[900]   \u001b[31m\u001b[1m  43,462.9619 (136.62) \u001b[0m\u001b[1m  78,609.2132 (41.80)  \u001b[0m\u001b[31m\u001b[1m  44,729.9695 (131.58) \u001b[0m\u001b[31m\u001b[1m  845.8044 (41.24)  \u001b[0m\u001b[31m\u001b[1m  44,615.0079 (133.72) \u001b[0m\u001b[31m\u001b[1m  531.7852 (131.26) \u001b[0m   885;502\u001b[31m\u001b[1m       22.3564 (0.01)   \u001b[0m   17071           1\n",
      "\u001b[33m------------------------------------------------------------------------------------------------------------------------------------------------------------------------------------------------------------------------\u001b[0m\n",
      "\n",
      "Legend:\n",
      "  Outliers: 1 Standard Deviation from Mean; 1.5 IQR (InterQuartile Range) from 1st Quartile and 3rd Quartile.\n",
      "  OPS: Operations Per Second, computed as 1 / Mean\n",
      "\u001b[33m======================== \u001b[32m18 passed\u001b[0m, \u001b[33m\u001b[1m1 warning\u001b[0m\u001b[33m in 14.36s\u001b[0m\u001b[33m ========================\u001b[0m\n"
     ]
    }
   ],
   "source": [
    "!pixi run pytest $bench_dir"
   ]
  },
  {
   "cell_type": "markdown",
   "id": "97fe3a33",
   "metadata": {},
   "source": [
    "To save results, you can use the `--benchmark-autosave` option"
   ]
  },
  {
   "cell_type": "code",
   "execution_count": 22,
   "id": "d7b780da",
   "metadata": {},
   "outputs": [
    {
     "name": "stdout",
     "output_type": "stream",
     "text": [
      "\u001b[2K\u001b[32m⠁\u001b[0m activating environment                                                        \u001b[1m============================= test session starts ==============================\u001b[0m\n",
      "platform linux -- Python 3.11.13, pytest-8.4.2, pluggy-1.6.0\n",
      "benchmark: 5.1.0 (defaults: timer=time.perf_counter disable_gc=False min_rounds=5 min_time=0.000005 max_time=1.0 calibration_precision=10 warmup=False warmup_iterations=100000)\n",
      "rootdir: /home/nclow23/src/phylo2vec/workshop\n",
      "plugins: anyio-4.10.0, benchmark-5.1.0\n",
      "collected 18 items                                                             \u001b[0m\n",
      "\n",
      "src/benchmarks/test_bench.py \u001b[32m.\u001b[0m\u001b[32m.\u001b[0m\u001b[32m.\u001b[0m\u001b[32m.\u001b[0m\u001b[32m.\u001b[0m\u001b[32m.\u001b[0m\u001b[32m.\u001b[0m\u001b[32m.\u001b[0m\u001b[32m.\u001b[0m\u001b[32m.\u001b[0m\u001b[32m.\u001b[0m\u001b[32m.\u001b[0m\u001b[32m.\u001b[0m\u001b[32m.\u001b[0m\u001b[32m.\u001b[0m\u001b[32m.\u001b[0m\u001b[32m.\u001b[0m\u001b[32m.\u001b[0m\u001b[33m                          [100%]\u001b[0m\n",
      "\u001b[35mSaved benchmark data in: /home/nclow23/src/phylo2vec/workshop/.benchmarks/Linux-CPython-3.11-64bit/0001_147b5cfe1774a3a38117cef9cdfa8c17301ad5f5_20250916_145157_uncommited-changes.json\u001b[0m\n",
      "\n",
      "\n",
      "\u001b[33m=============================== warnings summary ===============================\u001b[0m\n",
      ".pixi/envs/default/lib/python3.11/site-packages/ete3/webplugin/webapp.py:44\n",
      "  /home/nclow23/src/phylo2vec/workshop/.pixi/envs/default/lib/python3.11/site-packages/ete3/webplugin/webapp.py:44: DeprecationWarning: 'cgi' is deprecated and slated for removal in Python 3.13\n",
      "    import cgi\n",
      "\n",
      "-- Docs: https://docs.pytest.org/en/stable/how-to/capture-warnings.html\n",
      "\n",
      "\u001b[33m--------------------------------------------------------------------------------------------------- benchmark: 18 tests ----------------------------------------------------------------------------------------------------\u001b[0m\n",
      "Name (time in ns)                       Min                    Max                   Mean                StdDev                 Median                 IQR              Outliers  OPS (Kops/s)            Rounds  Iterations\n",
      "\u001b[33m----------------------------------------------------------------------------------------------------------------------------------------------------------------------------------------------------------------------------\u001b[0m\n",
      "test_fibonacci[500]           \u001b[32m\u001b[1m     349.1528 (1.0)    \u001b[0m\u001b[32m\u001b[1m   2,133.0547 (1.0)    \u001b[0m\u001b[32m\u001b[1m     363.9500 (1.0)    \u001b[0m\u001b[1m     24.3352 (1.11)   \u001b[0m\u001b[32m\u001b[1m     357.2088 (1.0)    \u001b[0m\u001b[1m    6.4727 (1.83)   \u001b[0m 13022;22722\u001b[32m\u001b[1m    2,747.6301 (1.0)    \u001b[0m  134336          20\n",
      "test_fibonacci[600]           \u001b[1m     352.6453 (1.01)   \u001b[0m\u001b[1m   2,716.7145 (1.27)   \u001b[0m\u001b[1m     370.2591 (1.02)   \u001b[0m\u001b[1m     27.2789 (1.25)   \u001b[0m\u001b[1m     363.7280 (1.02)   \u001b[0m\u001b[1m    7.5437 (2.13)   \u001b[0m  4002;20366\u001b[1m    2,700.8117 (0.98)   \u001b[0m  126830          20\n",
      "test_fibonacci[100]           \u001b[1m     359.4905 (1.03)   \u001b[0m\u001b[1m  24,826.2659 (11.64)  \u001b[0m\u001b[1m     406.2589 (1.12)   \u001b[0m\u001b[1m    257.8739 (11.78)  \u001b[0m\u001b[1m     380.9109 (1.07)   \u001b[0m\u001b[1m   19.5578 (5.53)   \u001b[0m    638;5450\u001b[1m    2,461.4847 (0.90)   \u001b[0m   74267           1\n",
      "test_fibonacci[200]           \u001b[1m     361.3532 (1.03)   \u001b[0m\u001b[1m  19,346.3638 (9.07)   \u001b[0m\u001b[1m     413.0104 (1.13)   \u001b[0m\u001b[1m    245.5931 (11.22)  \u001b[0m\u001b[1m     390.2242 (1.09)   \u001b[0m\u001b[1m   19.5578 (5.53)   \u001b[0m  1561;10925\u001b[1m    2,421.2466 (0.88)   \u001b[0m  170058           1\n",
      "test_fibonacci[300]           \u001b[1m     369.7351 (1.06)   \u001b[0m\u001b[1m  16,702.3391 (7.83)   \u001b[0m\u001b[1m     417.7049 (1.15)   \u001b[0m\u001b[1m    247.9438 (11.32)  \u001b[0m\u001b[1m     391.1555 (1.10)   \u001b[0m\u001b[1m   28.8710 (8.16)   \u001b[0m   1517;4645\u001b[1m    2,394.0348 (0.87)   \u001b[0m  183452           1\n",
      "test_fibonacci[700]           \u001b[1m     371.1786 (1.06)   \u001b[0m\u001b[1m   3,388.4309 (1.59)   \u001b[0m\u001b[1m     383.6608 (1.05)   \u001b[0m\u001b[1m     23.8918 (1.09)   \u001b[0m\u001b[1m     379.7002 (1.06)   \u001b[0m\u001b[1m    3.9581 (1.12)   \u001b[0m  9409;10741\u001b[1m    2,606.4690 (0.95)   \u001b[0m  121259          20\n",
      "test_fibonacci[800]           \u001b[1m     379.7002 (1.09)   \u001b[0m\u001b[1m   2,443.6507 (1.15)   \u001b[0m\u001b[1m     392.7280 (1.08)   \u001b[0m\u001b[32m\u001b[1m     21.8968 (1.0)    \u001b[0m\u001b[1m     388.7806 (1.09)   \u001b[0m\u001b[32m\u001b[1m    3.5390 (1.0)    \u001b[0m  8823;10339\u001b[1m    2,546.2915 (0.93)   \u001b[0m  119664          20\n",
      "test_fibonacci[900]           \u001b[1m     389.1997 (1.11)   \u001b[0m\u001b[1m   2,963.1425 (1.39)   \u001b[0m\u001b[1m     405.9144 (1.12)   \u001b[0m\u001b[1m     26.1125 (1.19)   \u001b[0m\u001b[1m     399.8168 (1.12)   \u001b[0m\u001b[1m    7.4971 (2.12)   \u001b[0m  3595;18941\u001b[1m    2,463.5734 (0.90)   \u001b[0m  119958          20\n",
      "test_fibonacci[400]           \u001b[1m     389.2928 (1.11)   \u001b[0m\u001b[1m  19,847.4154 (9.30)   \u001b[0m\u001b[1m     430.0664 (1.18)   \u001b[0m\u001b[1m    239.9034 (10.96)  \u001b[0m\u001b[1m     401.4000 (1.12)   \u001b[0m\u001b[1m   20.4891 (5.79)   \u001b[0m   1640;4548\u001b[1m    2,325.2221 (0.85)   \u001b[0m  188641           1\n",
      "test_p2v_sample_vector[100]   \u001b[1m   4,668.7201 (13.37)  \u001b[0m\u001b[1m  14,939.3454 (7.00)   \u001b[0m\u001b[1m   5,032.6763 (13.83)  \u001b[0m\u001b[1m    290.0788 (13.25)  \u001b[0m\u001b[1m   5,009.5841 (14.02)  \u001b[0m\u001b[1m  139.6984 (39.47)  \u001b[0m     171;183\u001b[1m      198.7014 (0.07)   \u001b[0m    7458           1\n",
      "test_p2v_sample_vector[200]   \u001b[1m   9,116.7167 (26.11)  \u001b[0m\u001b[1m  36,139.0412 (16.94)  \u001b[0m\u001b[1m   9,765.1834 (26.83)  \u001b[0m\u001b[1m    556.2741 (25.40)  \u001b[0m\u001b[1m   9,697.8620 (27.15)  \u001b[0m\u001b[1m  199.3030 (56.32)  \u001b[0m   1136;1932\u001b[1m      102.4046 (0.04)   \u001b[0m   35369           1\n",
      "test_p2v_sample_vector[300]   \u001b[1m  14,186.8368 (40.63)  \u001b[0m\u001b[1m  52,038.5802 (24.40)  \u001b[0m\u001b[1m  14,905.8864 (40.96)  \u001b[0m\u001b[1m    627.0359 (28.64)  \u001b[0m\u001b[1m  14,829.4494 (41.51)  \u001b[0m\u001b[1m  261.7016 (73.95)  \u001b[0m   1157;1930\u001b[1m       67.0876 (0.02)   \u001b[0m   35383           1\n",
      "test_p2v_sample_vector[400]   \u001b[1m  19,337.0506 (55.38)  \u001b[0m\u001b[1m  47,711.6555 (22.37)  \u001b[0m\u001b[1m  20,258.9141 (55.66)  \u001b[0m\u001b[1m    848.9125 (38.77)  \u001b[0m\u001b[1m  20,158.4771 (56.43)  \u001b[0m\u001b[1m  321.3063 (90.79)  \u001b[0m     307;734\u001b[1m       49.3610 (0.02)   \u001b[0m   15557           1\n",
      "test_p2v_sample_vector[500]   \u001b[1m  24,025.3285 (68.81)  \u001b[0m\u001b[1m  54,142.4379 (25.38)  \u001b[0m\u001b[1m  25,058.9033 (68.85)  \u001b[0m\u001b[1m    993.0144 (45.35)  \u001b[0m\u001b[1m  24,937.0933 (69.81)  \u001b[0m\u001b[1m  361.3532 (102.11) \u001b[0m     402;939\u001b[1m       39.9060 (0.01)   \u001b[0m   20123           1\n",
      "test_p2v_sample_vector[600]   \u001b[1m  29,255.6360 (83.79)  \u001b[0m\u001b[1m  82,125.8873 (38.50)  \u001b[0m\u001b[1m  30,350.5727 (83.39)  \u001b[0m\u001b[1m  1,061.4421 (48.47)  \u001b[0m\u001b[1m  30,227.0055 (84.62)  \u001b[0m\u001b[1m  430.2710 (121.58) \u001b[0m     425;774\u001b[1m       32.9483 (0.01)   \u001b[0m   20930           1\n",
      "test_p2v_sample_vector[700]   \u001b[1m  34,445.8967 (98.66)  \u001b[0m\u001b[1m  72,818.2495 (34.14)  \u001b[0m\u001b[1m  35,682.0095 (98.04)  \u001b[0m\u001b[1m  1,112.0042 (50.78)  \u001b[0m\u001b[1m  35,547.6514 (99.52)  \u001b[0m\u001b[1m  481.4938 (136.05) \u001b[0m     448;672\u001b[1m       28.0253 (0.01)   \u001b[0m   19958           1\n",
      "test_p2v_sample_vector[800]   \u001b[1m  38,853.8465 (111.28) \u001b[0m\u001b[1m  87,024.6440 (40.80)  \u001b[0m\u001b[1m  40,386.9199 (110.97) \u001b[0m\u001b[31m\u001b[1m  1,657.9336 (75.72)  \u001b[0m\u001b[1m  40,185.6378 (112.50) \u001b[0m\u001b[1m  520.6093 (147.11) \u001b[0m     392;656\u001b[1m       24.7605 (0.01)   \u001b[0m   18776           1\n",
      "test_p2v_sample_vector[900]   \u001b[31m\u001b[1m  43,473.2065 (124.51) \u001b[0m\u001b[31m\u001b[1m  90,483.5761 (42.42)  \u001b[0m\u001b[31m\u001b[1m  44,945.8432 (123.49) \u001b[0m\u001b[1m  1,426.6291 (65.15)  \u001b[0m\u001b[31m\u001b[1m  44,785.4400 (125.38) \u001b[0m\u001b[31m\u001b[1m  530.8539 (150.00) \u001b[0m     360;562\u001b[31m\u001b[1m       22.2490 (0.01)   \u001b[0m   17489           1\n",
      "\u001b[33m----------------------------------------------------------------------------------------------------------------------------------------------------------------------------------------------------------------------------\u001b[0m\n",
      "\n",
      "Legend:\n",
      "  Outliers: 1 Standard Deviation from Mean; 1.5 IQR (InterQuartile Range) from 1st Quartile and 3rd Quartile.\n",
      "  OPS: Operations Per Second, computed as 1 / Mean\n",
      "\u001b[33m======================== \u001b[32m18 passed\u001b[0m, \u001b[33m\u001b[1m1 warning\u001b[0m\u001b[33m in 13.83s\u001b[0m\u001b[33m ========================\u001b[0m\n"
     ]
    }
   ],
   "source": [
    "!pixi run pytest $bench_dir --benchmark-autosave"
   ]
  },
  {
   "cell_type": "markdown",
   "id": "a86ce3ad",
   "metadata": {},
   "source": [
    "A file will appear in the `.benchmarks` directory with the result of your benchmark. There are several options for plotting the benchmark results, we show here one with `seaborn` and `pandas`. Here is an example script:"
   ]
  },
  {
   "cell_type": "code",
   "execution_count": 24,
   "id": "cd49d636",
   "metadata": {},
   "outputs": [
    {
     "data": {
      "image/png": "[encoded data removed]",
      "text/plain": [
       "<Figure size 640x480 with 1 Axes>"
      ]
     },
     "metadata": {},
     "output_type": "display_data"
    }
   ],
   "source": [
    "import json\n",
    "\n",
    "from pathlib import Path\n",
    "\n",
    "import matplotlib.pyplot as plt\n",
    "import pandas as pd\n",
    "import seaborn as sns\n",
    "\n",
    "dfs = []\n",
    "\n",
    "for benchmark_file in Path(\".benchmarks\").rglob(\"*.json\"):\n",
    "    # Load the benchmark data\n",
    "    with open(benchmark_file, \"r\") as f:\n",
    "        data_i = json.load(f)\n",
    "\n",
    "    df_i = pd.DataFrame(data_i[\"benchmarks\"])\n",
    "\n",
    "    df_i[\"param\"] = df_i.param.astype(int)\n",
    "\n",
    "    df_i[\"name\"] = df_i[\"name\"].apply(lambda x: x.replace(\"test_\", \"\").split(\"[\")[0])\n",
    "\n",
    "    df_i = pd.concat(\n",
    "        [df_i.drop(\"stats\", axis=1), pd.json_normalize(df_i[\"stats\"])], axis=1\n",
    "    )\n",
    "\n",
    "    df_i[\"cpu_time\"] = df_i[\"mean\"]\n",
    "    df_i[\"cpu_stddev\"] = df_i[\"stddev\"]\n",
    "\n",
    "    df_i[\"run\"] = df_i[\"name\"] + f\"_{Path(benchmark_file).stem.split('_')[0]}\"\n",
    "\n",
    "    dfs.append(df_i)\n",
    "\n",
    "df = pd.concat(dfs, axis=0).reset_index(drop=True).query(\"run.str.contains('sample')\")\n",
    "\n",
    "sns.pointplot(\n",
    "    x=\"param\",\n",
    "    y=\"cpu_time\",\n",
    "    hue=\"run\",\n",
    "    palette=\"Blues\",\n",
    "    linestyles=None,\n",
    "    data=df,\n",
    "    markersize=3,\n",
    "    linewidth=1.25,\n",
    ")\n",
    "plt.ylabel(\"Time (s)\")\n",
    "plt.xlabel(\"Number of leaves\")\n",
    "plt.show()"
   ]
  },
  {
   "cell_type": "markdown",
   "id": "36c2b861",
   "metadata": {},
   "source": [
    "## Exercise 1: Adjacency matrix with phylo2vec\n",
    "\n",
    "The goal of this exercise is to create an adjacency matrix using phylo2vec. \n",
    "\n",
    "An adjacency matrix can be used to represent any graph (and thus, any tree). It is a square matrix $A$ such that each element $A_{ij}$ is 1 when there is an edge from a node $i$ to node $j$, and 0 when there is no edge.\n",
    "\n",
    "As a phylo2vec vector $v$ represents a **rooted** binary tree, it represents a directed graph. Thus, each edge goes from a parent to a child, but not vice versa.\n",
    "\n",
    "To check that your function works, write a test fil `test_adjacency` in the **tests** directory, and run pytest to check that you pass all tests!"
   ]
  },
  {
   "cell_type": "code",
   "execution_count": null,
   "id": "517b0bc7",
   "metadata": {},
   "outputs": [],
   "source": [
    "#################################################\n",
    "############# YOUR CODE STARTS HERE #############\n",
    "#################################################\n",
    "\n",
    "def adjacency_matrix(v: np.ndarray) -> np.ndarray:\n",
    "    \"\"\"Create the adjacency matrix of the tree represented by a phylo2vec vector.\n",
    "\n",
    "    Parameters\n",
    "    ----------\n",
    "    v: np.ndarray\n",
    "        A phylo2vec vector.\n",
    "\n",
    "    Returns\n",
    "    -------\n",
    "    np.ndarray\n",
    "        The adjacency matrix of the tree represented by the vector.\n",
    "    \"\"\"\n",
    "    raise NotImplementedError\n",
    "\n",
    "#################################################\n",
    "############## YOUR CODE ENDS HERE ##############"
   ]
  },
  {
   "cell_type": "markdown",
   "id": "91bff3d2",
   "metadata": {},
   "source": [
    "## Exercise 2: Visualising trees with phylo2vec\n",
    "\n",
    "The goal of this exercise is to plot trees using phylo2vec. You are free to decide the language to use (R=) the output format (ASCII, image, interactive visualisation etc.), and dependencies that you may need. Ideally, we would like to minimize dependencies, but plotting libraries might be necessary to render nice phylogenetic trees!\n",
    "\n",
    "Use `pytest-benchmark` to evaluate the efficiency of your solution. "
   ]
  },
  {
   "cell_type": "code",
   "execution_count": null,
   "id": "3dd8c33a",
   "metadata": {},
   "outputs": [],
   "source": [
    "#################################################\n",
    "############# YOUR CODE STARTS HERE #############\n",
    "#################################################\n",
    "\n",
    "\n",
    "def visualize_tree(v: np.ndarray):\n",
    "    \"\"\"Visualize the tree represented by a phylo2vec vector.\n",
    "\n",
    "    Parameters\n",
    "    ----------\n",
    "    v: np.ndarray\n",
    "        A phylo2vec vector.\n",
    "    \"\"\"\n",
    "    # You may also try to plot a tree with branch lengths using the phylo2vec matrix format\n",
    "    raise NotImplementedError\n",
    "\n",
    "\n",
    "#################################################\n",
    "############## YOUR CODE ENDS HERE ##############"
   ]
  }
 ],
 "metadata": {
  "kernelspec": {
   "display_name": "default",
   "language": "python",
   "name": "python3"
  },
  "language_info": {
   "codemirror_mode": {
    "name": "ipython",
    "version": 3
   },
   "file_extension": ".py",
   "mimetype": "text/x-python",
   "name": "python",
   "nbconvert_exporter": "python",
   "pygments_lexer": "ipython3",
   "version": "3.11.13"
  }
 },
 "nbformat": 4,
 "nbformat_minor": 5
}
